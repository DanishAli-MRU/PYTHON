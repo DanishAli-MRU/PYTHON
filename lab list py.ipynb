{
 "cells": [
  {
   "cell_type": "code",
   "execution_count": 1,
   "metadata": {},
   "outputs": [
    {
     "name": "stdout",
     "output_type": "stream",
     "text": [
      "10\n"
     ]
    }
   ],
   "source": [
    "#Lists-Q1\n",
    "\n",
    "a=[1,2,3,4]\n",
    "print(sum(a))"
   ]
  },
  {
   "cell_type": "code",
   "execution_count": 12,
   "metadata": {},
   "outputs": [
    {
     "name": "stdout",
     "output_type": "stream",
     "text": [
      "Multiplication is 24\n"
     ]
    }
   ],
   "source": [
    "#lists-Q2\n",
    "\n",
    "li=[1,2,3,4]\n",
    "mul=1\n",
    "for i in li:\n",
    "    mul=mul*i\n",
    "print(\"Multiplication is\",mul)"
   ]
  },
  {
   "cell_type": "code",
   "execution_count": 11,
   "metadata": {},
   "outputs": [
    {
     "name": "stdout",
     "output_type": "stream",
     "text": [
      "Maximum from list is 100\n"
     ]
    }
   ],
   "source": [
    "#Lists-Q3\n",
    "\n",
    "a=[1,100,45,12,15]\n",
    "print(\"Maximum from list is\",max(a))"
   ]
  },
  {
   "cell_type": "code",
   "execution_count": 10,
   "metadata": {},
   "outputs": [
    {
     "name": "stdout",
     "output_type": "stream",
     "text": [
      "Minimum is 10\n"
     ]
    }
   ],
   "source": [
    "#Lists-Q4\n",
    "\n",
    "a=[10,100,34,100]\n",
    "print(\"Minimum is\",min(a))\n"
   ]
  },
  {
   "cell_type": "code",
   "execution_count": 7,
   "metadata": {},
   "outputs": [
    {
     "name": "stdout",
     "output_type": "stream",
     "text": [
      "3\n"
     ]
    }
   ],
   "source": [
    "#lists-Q5\n",
    "\n",
    "a=[\"1221\",\"aba\",\"abc\",\"xyz\",\"ana\"]\n",
    "sum=0\n",
    "for i in a:\n",
    "    if i[0]==i[-1]:\n",
    "        sum=sum+1\n",
    "        \n",
    "print(sum)"
   ]
  },
  {
   "cell_type": "code",
   "execution_count": 6,
   "metadata": {},
   "outputs": [
    {
     "name": "stdout",
     "output_type": "stream",
     "text": [
      "[1, 2, 3, 9]\n"
     ]
    }
   ],
   "source": [
    "#Lists-Q7\n",
    "\n",
    "k=[]\n",
    "a=[1,2,3,1,9]\n",
    "for i in a:\n",
    "    if i not in k:\n",
    "        k.append(i)\n",
    "            \n",
    "print(k)"
   ]
  },
  {
   "cell_type": "code",
   "execution_count": 5,
   "metadata": {},
   "outputs": [
    {
     "name": "stdout",
     "output_type": "stream",
     "text": [
      "List is Empty\n"
     ]
    }
   ],
   "source": [
    "#Lists-Q8\n",
    "\n",
    "a=[]\n",
    "if len(a)>0:\n",
    "    print(\"List is Not Empty\")\n",
    "else:\n",
    "    print(\"List is Empty\")"
   ]
  },
  {
   "cell_type": "code",
   "execution_count": 4,
   "metadata": {},
   "outputs": [
    {
     "name": "stdout",
     "output_type": "stream",
     "text": [
      "[1, 2, 3]\n"
     ]
    }
   ],
   "source": [
    "#Lists-Q9\n",
    "\n",
    "a=[1,2,3]\n",
    "b=[]\n",
    "\n",
    "for i in a:\n",
    "    b.append(i)\n",
    "print(b)"
   ]
  },
  {
   "cell_type": "code",
   "execution_count": 2,
   "metadata": {},
   "outputs": [
    {
     "name": "stdout",
     "output_type": "stream",
     "text": [
      "['Hello', 'Halwa', 'Ayush']\n"
     ]
    }
   ],
   "source": [
    "a=[\"Hello\",\"Hi\",\"Halwa\",\"Ayush\",\"AK\"]\n",
    "b=[]\n",
    "count=0\n",
    "for i in a:\n",
    "    for j in i:\n",
    "        count=count+1\n",
    "    if count>2:\n",
    "        b.append(i)\n",
    "    count=0\n",
    "\n",
    "print(b)"
   ]
  },
  {
   "cell_type": "code",
   "execution_count": null,
   "metadata": {},
   "outputs": [],
   "source": []
  }
 ],
 "metadata": {
  "kernelspec": {
   "display_name": "Python 3.8.0 64-bit",
   "language": "python",
   "name": "python38064bit4084e17e0b704b11819a6c38322e2310"
  },
  "language_info": {
   "codemirror_mode": {
    "name": "ipython",
    "version": 3
   },
   "file_extension": ".py",
   "mimetype": "text/x-python",
   "name": "python",
   "nbconvert_exporter": "python",
   "pygments_lexer": "ipython3",
   "version": "3.8.0"
  }
 },
 "nbformat": 4,
 "nbformat_minor": 2
}
