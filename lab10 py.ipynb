{
 "cells": [
  {
   "cell_type": "code",
   "execution_count": 8,
   "metadata": {},
   "outputs": [
    {
     "name": "stdout",
     "output_type": "stream",
     "text": [
      "SHANU\n",
      "DIVYANSH\n",
      "AMANPREET\n",
      "DANISH\n"
     ]
    }
   ],
   "source": [
    " #q5\n",
    "class Class1:\n",
    "     def m(self):\n",
    "         print(\"DANISH\")\n",
    "\n",
    "\n",
    "class Class2(Class1):\n",
    "     def m(self):\n",
    "         print(\"DIVYANSH\")\n",
    "\n",
    "\n",
    "class Class3(Class1):\n",
    "     def m(self):\n",
    "         print(\"AMANPREET\")\n",
    "\n",
    "\n",
    "class Class4(Class2, Class3):\n",
    "     def m(self):\n",
    "         print(\"SHANU\")\n",
    "\n",
    "obj = Class4()\n",
    "obj.m()\n",
    "\n",
    "Class2.m(obj)\n",
    "Class3.m(obj)\n",
    "Class1.m(obj)"
   ]
  },
  {
   "cell_type": "code",
   "execution_count": 7,
   "metadata": {},
   "outputs": [
    {
     "name": "stdout",
     "output_type": "stream",
     "text": [
      " child statment \n",
      "Parent 2 statment \n"
     ]
    }
   ],
   "source": [
    "# Q4:-WRIte a Python program to demonstrate Inheritance and method overriding.\n",
    "\n",
    "class Parent1():\n",
    "    def show(self):\n",
    "        print(\"Parent 1 statement \")\n",
    "\n",
    "class Parent2():\n",
    "    def display(self):\n",
    "         print(\"Parent 2 statment \")\n",
    "\n",
    "class Child(Parent1, Parent2):\n",
    "    def show(self):\n",
    "        print(\" child statment \")\n",
    "\n",
    "\n",
    "obj = Child()\n",
    "\n",
    "obj.show()\n",
    "obj.display()\n"
   ]
  },
  {
   "cell_type": "code",
   "execution_count": 23,
   "metadata": {},
   "outputs": [
    {
     "name": "stdout",
     "output_type": "stream",
     "text": [
      "mamal dog\n",
      "I'm a mamal\n",
      "I'm a dog\n",
      "None\n"
     ]
    }
   ],
   "source": [
    "#Q3:- Write a Python program to demonstrate classes and their attributes.\n",
    "class Dog:\n",
    "    attr1 = \"mamal\"\n",
    "    attr2 = \"dog\"\n",
    "     \n",
    "    def fun(self):\n",
    "            print(\"I'm a\", self.attr1)\n",
    "            print(\"I'm a\", self.attr2)\n",
    "\n",
    "Rodger = Dog()\n",
    "\n",
    "print(Rodger.attr1, Rodger.attr2)\n",
    "print(Rodger.fun())\n"
   ]
  },
  {
   "cell_type": "code",
   "execution_count": 30,
   "metadata": {},
   "outputs": [
    {
     "ename": "IndentationError",
     "evalue": "unindent does not match any outer indentation level (<tokenize>, line 6)",
     "output_type": "error",
     "traceback": [
      "\u001b[1;36m  File \u001b[1;32m\"<tokenize>\"\u001b[1;36m, line \u001b[1;32m6\u001b[0m\n\u001b[1;33m    def printdesignation(self):\u001b[0m\n\u001b[1;37m    ^\u001b[0m\n\u001b[1;31mIndentationError\u001b[0m\u001b[1;31m:\u001b[0m unindent does not match any outer indentation level\n"
     ]
    }
   ],
   "source": [
    "#Q2:-Write a Python program to create a class Employee.Define two subclasses:Engineer and Manager.Every class should have method named printDesignation() that prints Engineer for Engineer class and Manager for Manager Class.\n",
    "\n",
    "class Employee():\n",
    "     name = \"employee\"\n",
    "     \n",
    "    def printdesignation(self):\n",
    "        print(\"I'm a\",self.name)\n",
    "\n",
    "class Engineer():\n",
    "     name = \"Engineer\"\n",
    "\n",
    "    def printdesignation(self):\n",
    "         print(\"I'm a\",self.name)\n",
    "\n",
    "class Manager():\n",
    "     name = \"Manager\"\n",
    "    \n",
    "    def printdesignation(self):\n",
    "            print(\"I'm a\",self.name)\n",
    "\n",
    "com_1 = Employee()\n",
    " print(com_1.printdesignation())\n",
    "\n",
    "com_2 =Manager()\n",
    " print(com_2.printdesignation())\n",
    "\n",
    "com_3 = Engineer()\n",
    " print(com_3.printdesignation())"
   ]
  },
  {
   "cell_type": "code",
   "execution_count": 24,
   "metadata": {},
   "outputs": [
    {
     "name": "stdout",
     "output_type": "stream",
     "text": [
      "Animals have four legs\n",
      "Animals have four legs\n"
     ]
    }
   ],
   "source": [
    "#  Q1:- Write a Python program that has a class Animal with a method legs(). Create two\n",
    "# subclasses Tiger and Dog, access the method leg explicitly with class Dog and implicitly\n",
    "# with the class Tiger.\n",
    "class animal:\n",
    "     def legs(self):\n",
    "            print(\"Animals have four legs\")\n",
    "\n",
    "class tiger(animal):\n",
    "     pass\n",
    "\n",
    "class dog(animal):\n",
    "     animal().legs()\n",
    "\n",
    "tiger().legs()\n",
    "\n"
   ]
  },
  {
   "cell_type": "code",
   "execution_count": null,
   "metadata": {},
   "outputs": [],
   "source": []
  }
 ],
 "metadata": {
  "kernelspec": {
   "display_name": "Python 3.8.0 64-bit",
   "language": "python",
   "name": "python38064bit4084e17e0b704b11819a6c38322e2310"
  },
  "language_info": {
   "codemirror_mode": {
    "name": "ipython",
    "version": 3
   },
   "file_extension": ".py",
   "mimetype": "text/x-python",
   "name": "python",
   "nbconvert_exporter": "python",
   "pygments_lexer": "ipython3",
   "version": "3.8.0"
  }
 },
 "nbformat": 4,
 "nbformat_minor": 2
}
